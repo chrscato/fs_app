{
 "cells": [
  {
   "cell_type": "markdown",
   "metadata": {},
   "source": [
    "## notebook to bring in data to db"
   ]
  },
  {
   "cell_type": "markdown",
   "metadata": {},
   "source": [
    "-- import modules"
   ]
  },
  {
   "cell_type": "code",
   "execution_count": 2,
   "metadata": {},
   "outputs": [],
   "source": [
    "import pandas as pd\n",
    "import sqlite3\n"
   ]
  },
  {
   "cell_type": "markdown",
   "metadata": {},
   "source": [
    "-- declare db"
   ]
  },
  {
   "cell_type": "code",
   "execution_count": 3,
   "metadata": {},
   "outputs": [],
   "source": [
    "db = r'C:\\Users\\ChristopherCato\\OneDrive - clarity-dx.com\\compensation-fee-schedule-app\\data\\rates.db'"
   ]
  },
  {
   "cell_type": "markdown",
   "metadata": {},
   "source": [
    "-- bring in dim_zip"
   ]
  },
  {
   "cell_type": "code",
   "execution_count": 4,
   "metadata": {},
   "outputs": [
    {
     "name": "stdout",
     "output_type": "stream",
     "text": [
      "     ZIP  COUNTY     county_name        city state\n",
      "0  00501   36103  Suffolk County  HOLTSVILLE    NY\n",
      "1  00601   72001            None    ADJUNTAS    PR\n",
      "2  00602   72005            None      AGUADA    PR\n",
      "3  00602   72003            None      AGUADA    PR\n",
      "4  00602   72117            None      AGUADA    PR\n"
     ]
    }
   ],
   "source": [
    "# Load CSV file\n",
    "file_path = r\"C:\\Users\\ChristopherCato\\OneDrive - clarity-dx.com\\Fee Schedules\\dim_zip.csv\"  # Update with actual file path\n",
    "df = pd.read_csv(file_path, dtype={\"ZIP\": str})  # Read ZIP as string\n",
    "\n",
    "# Ensure ZIP codes are formatted with leading zeros (5 digits)\n",
    "df[\"ZIP\"] = df[\"ZIP\"].str.zfill(5)  # This ensures '501' -> '00501'\n",
    "\n",
    "# Connect to SQLite database (or create if not exists)\n",
    "conn = sqlite3.connect(db)\n",
    "\n",
    "# Load data into SQLite table (replace or append as needed)\n",
    "df.to_sql(\"dim_zip\", conn, if_exists=\"replace\", index=False)\n",
    "\n",
    "# Verify data loaded correctly\n",
    "print(pd.read_sql(\"SELECT * FROM dim_zip LIMIT 5;\", conn))\n",
    "\n",
    "# Close connection\n",
    "conn.close()\n"
   ]
  }
 ],
 "metadata": {
  "kernelspec": {
   "display_name": "Python 3",
   "language": "python",
   "name": "python3"
  },
  "language_info": {
   "codemirror_mode": {
    "name": "ipython",
    "version": 3
   },
   "file_extension": ".py",
   "mimetype": "text/x-python",
   "name": "python",
   "nbconvert_exporter": "python",
   "pygments_lexer": "ipython3",
   "version": "3.13.2"
  }
 },
 "nbformat": 4,
 "nbformat_minor": 2
}
